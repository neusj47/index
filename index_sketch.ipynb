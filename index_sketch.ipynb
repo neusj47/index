{
 "cells": [
  {
   "cell_type": "code",
   "execution_count": 1,
   "id": "3c417472",
   "metadata": {},
   "outputs": [],
   "source": [
    "# 지수 만들기\n",
    "# 0. 맵핑 정보 가져오기\n",
    "# 1. 대상 코드 입력\n",
    "# 2. 지수 생성 (동일가중)\n",
    "\n",
    "import pandas as pd\n",
    "import requests\n",
    "import re\n",
    "import FinanceDataReader as fdr\n",
    "import datetime \n",
    "import matplotlib.pyplot as plt\n",
    "import matplotlib.font_manager as fm"
   ]
  },
  {
   "cell_type": "code",
   "execution_count": 2,
   "id": "bcb6dd7f",
   "metadata": {},
   "outputs": [],
   "source": [
    "start_date = '20201114'\n",
    "end_date = '20211114'\n",
    "df_krx = fdr.StockListing('KRX')"
   ]
  },
  {
   "cell_type": "code",
   "execution_count": 4,
   "id": "d4ba8936",
   "metadata": {},
   "outputs": [],
   "source": [
    "# 0. 맵핑 정보 가져오기 \n",
    "def get_thema_code(num) : \n",
    "    thema_url = 'https://m.infostock.co.kr/sector/sector_detail.asp?code=' + str(num) + ''\n",
    "    thema_page = requests.get(thema_url)\n",
    "    code_list = []\n",
    "    if thema_page.status_code == 200 :\n",
    "        thema_tables = pd.read_html(thema_page.text)\n",
    "        for i in range(4,len(thema_tables[0][0])) : \n",
    "            code_list.append(re.sub(r'[^0-9]','',thema_tables[0][0][i]))\n",
    "    else : \n",
    "        pass \n",
    "    return code_list "
   ]
  },
  {
   "cell_type": "code",
   "execution_count": 5,
   "id": "8688fedb",
   "metadata": {},
   "outputs": [],
   "source": [
    "# 1. 대상 코드 입력 \n",
    "thema_info = {496: '골프',\n",
    "              492: 'NFT',\n",
    "              504: '요소수 관련주',\n",
    "              44 : '시멘트/레미콘',\n",
    "              488 : '웹툰'}"
   ]
  },
  {
   "cell_type": "code",
   "execution_count": 7,
   "id": "11585a33",
   "metadata": {},
   "outputs": [],
   "source": [
    "# 2. 지수 생성 \n",
    "def get_thema_idx(df_krx, thema_info) : \n",
    "    idx = pd.DataFrame()\n",
    "    for key,value in thema_info.items():\n",
    "        code_list = get_thema_code(key)\n",
    "        df = pd.DataFrame()\n",
    "        for i in range(0, len(code_list)) :\n",
    "            df_temp = pd.DataFrame(fdr.DataReader(code_list[i], start_date, end_date)['Close'])\n",
    "            code_info = df_krx[df_krx['Symbol'].isin(code_list)]\n",
    "            df_temp.columns = code_info[code_info['Symbol']==code_list[i]].Name\n",
    "            df = pd.concat([df,df_temp], axis= 1)\n",
    "        df = df.pct_change().fillna(0)\n",
    "        idx_temp = pd.DataFrame(df.sum(axis=1)/len(df.columns), index = df.index, columns= [value])\n",
    "        idx = pd.concat([idx,idx_temp], axis =1)\n",
    "        cum_idx = (1 + idx).cumprod() - 1\n",
    "    return cum_idx"
   ]
  },
  {
   "cell_type": "code",
   "execution_count": 9,
   "id": "635ed381",
   "metadata": {},
   "outputs": [
    {
     "data": {
      "text/html": [
       "<div>\n",
       "<style scoped>\n",
       "    .dataframe tbody tr th:only-of-type {\n",
       "        vertical-align: middle;\n",
       "    }\n",
       "\n",
       "    .dataframe tbody tr th {\n",
       "        vertical-align: top;\n",
       "    }\n",
       "\n",
       "    .dataframe thead th {\n",
       "        text-align: right;\n",
       "    }\n",
       "</style>\n",
       "<table border=\"1\" class=\"dataframe\">\n",
       "  <thead>\n",
       "    <tr style=\"text-align: right;\">\n",
       "      <th></th>\n",
       "      <th>골프</th>\n",
       "      <th>NFT</th>\n",
       "      <th>요소수 관련주</th>\n",
       "      <th>시멘트/레미콘</th>\n",
       "      <th>웹툰</th>\n",
       "    </tr>\n",
       "    <tr>\n",
       "      <th>Date</th>\n",
       "      <th></th>\n",
       "      <th></th>\n",
       "      <th></th>\n",
       "      <th></th>\n",
       "      <th></th>\n",
       "    </tr>\n",
       "  </thead>\n",
       "  <tbody>\n",
       "    <tr>\n",
       "      <th>2020-11-16</th>\n",
       "      <td>0.000000</td>\n",
       "      <td>0.000000</td>\n",
       "      <td>0.000000</td>\n",
       "      <td>0.000000</td>\n",
       "      <td>0.000000</td>\n",
       "    </tr>\n",
       "    <tr>\n",
       "      <th>2020-11-17</th>\n",
       "      <td>-0.000654</td>\n",
       "      <td>-0.015159</td>\n",
       "      <td>-0.031213</td>\n",
       "      <td>0.001003</td>\n",
       "      <td>-0.014879</td>\n",
       "    </tr>\n",
       "    <tr>\n",
       "      <th>2020-11-18</th>\n",
       "      <td>-0.002903</td>\n",
       "      <td>0.000621</td>\n",
       "      <td>-0.016458</td>\n",
       "      <td>0.010264</td>\n",
       "      <td>0.000338</td>\n",
       "    </tr>\n",
       "    <tr>\n",
       "      <th>2020-11-19</th>\n",
       "      <td>-0.005696</td>\n",
       "      <td>0.009605</td>\n",
       "      <td>-0.000094</td>\n",
       "      <td>0.010754</td>\n",
       "      <td>-0.003241</td>\n",
       "    </tr>\n",
       "    <tr>\n",
       "      <th>2020-11-20</th>\n",
       "      <td>-0.004502</td>\n",
       "      <td>0.036839</td>\n",
       "      <td>0.014086</td>\n",
       "      <td>0.007682</td>\n",
       "      <td>0.003464</td>\n",
       "    </tr>\n",
       "    <tr>\n",
       "      <th>...</th>\n",
       "      <td>...</td>\n",
       "      <td>...</td>\n",
       "      <td>...</td>\n",
       "      <td>...</td>\n",
       "      <td>...</td>\n",
       "    </tr>\n",
       "    <tr>\n",
       "      <th>2021-11-08</th>\n",
       "      <td>0.327297</td>\n",
       "      <td>1.214742</td>\n",
       "      <td>0.396734</td>\n",
       "      <td>0.456402</td>\n",
       "      <td>0.442601</td>\n",
       "    </tr>\n",
       "    <tr>\n",
       "      <th>2021-11-09</th>\n",
       "      <td>0.312791</td>\n",
       "      <td>1.374225</td>\n",
       "      <td>0.378759</td>\n",
       "      <td>0.441574</td>\n",
       "      <td>0.475256</td>\n",
       "    </tr>\n",
       "    <tr>\n",
       "      <th>2021-11-10</th>\n",
       "      <td>0.287126</td>\n",
       "      <td>1.351147</td>\n",
       "      <td>0.273558</td>\n",
       "      <td>0.415485</td>\n",
       "      <td>0.460558</td>\n",
       "    </tr>\n",
       "    <tr>\n",
       "      <th>2021-11-11</th>\n",
       "      <td>0.285038</td>\n",
       "      <td>1.435355</td>\n",
       "      <td>0.254791</td>\n",
       "      <td>0.404895</td>\n",
       "      <td>0.497437</td>\n",
       "    </tr>\n",
       "    <tr>\n",
       "      <th>2021-11-12</th>\n",
       "      <td>0.300758</td>\n",
       "      <td>1.387251</td>\n",
       "      <td>0.271461</td>\n",
       "      <td>0.422762</td>\n",
       "      <td>0.505041</td>\n",
       "    </tr>\n",
       "  </tbody>\n",
       "</table>\n",
       "<p>246 rows × 5 columns</p>\n",
       "</div>"
      ],
      "text/plain": [
       "                  골프       NFT   요소수 관련주   시멘트/레미콘        웹툰\n",
       "Date                                                        \n",
       "2020-11-16  0.000000  0.000000  0.000000  0.000000  0.000000\n",
       "2020-11-17 -0.000654 -0.015159 -0.031213  0.001003 -0.014879\n",
       "2020-11-18 -0.002903  0.000621 -0.016458  0.010264  0.000338\n",
       "2020-11-19 -0.005696  0.009605 -0.000094  0.010754 -0.003241\n",
       "2020-11-20 -0.004502  0.036839  0.014086  0.007682  0.003464\n",
       "...              ...       ...       ...       ...       ...\n",
       "2021-11-08  0.327297  1.214742  0.396734  0.456402  0.442601\n",
       "2021-11-09  0.312791  1.374225  0.378759  0.441574  0.475256\n",
       "2021-11-10  0.287126  1.351147  0.273558  0.415485  0.460558\n",
       "2021-11-11  0.285038  1.435355  0.254791  0.404895  0.497437\n",
       "2021-11-12  0.300758  1.387251  0.271461  0.422762  0.505041\n",
       "\n",
       "[246 rows x 5 columns]"
      ]
     },
     "execution_count": 9,
     "metadata": {},
     "output_type": "execute_result"
    }
   ],
   "source": [
    "get_thema_idx(df_krx, thema_info) "
   ]
  },
  {
   "cell_type": "code",
   "execution_count": 10,
   "id": "b231928b",
   "metadata": {},
   "outputs": [],
   "source": [
    "idx = get_thema_idx(df_krx, thema_info) "
   ]
  },
  {
   "cell_type": "code",
   "execution_count": 13,
   "id": "fc399b52",
   "metadata": {},
   "outputs": [
    {
     "data": {
      "text/plain": [
       "<matplotlib.legend.Legend at 0x1df37f1b250>"
      ]
     },
     "execution_count": 13,
     "metadata": {},
     "output_type": "execute_result"
    },
    {
     "data": {
      "image/png": "[encoded data removed]",
      "text/plain": [
       "<Figure size 432x288 with 1 Axes>"
      ]
     },
     "metadata": {
      "needs_background": "light"
     },
     "output_type": "display_data"
    }
   ],
   "source": [
    "import warnings\n",
    "warnings.filterwarnings(action='ignore')\n",
    "\n",
    "\n",
    "plt.plot(idx,label = [i for i in idx.columns]) \n",
    "plt.legend() "
   ]
  }
 ],
 "metadata": {
  "kernelspec": {
   "display_name": "Python 3",
   "language": "python",
   "name": "python3"
  },
  "language_info": {
   "codemirror_mode": {
    "name": "ipython",
    "version": 3
   },
   "file_extension": ".py",
   "mimetype": "text/x-python",
   "name": "python",
   "nbconvert_exporter": "python",
   "pygments_lexer": "ipython3",
   "version": "3.8.8"
  }
 },
 "nbformat": 4,
 "nbformat_minor": 5
}
